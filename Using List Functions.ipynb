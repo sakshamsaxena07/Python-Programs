{
 "cells": [
  {
   "cell_type": "code",
   "execution_count": 9,
   "id": "95e3dcfb-3baa-4943-a395-6d3aaa106ffe",
   "metadata": {},
   "outputs": [
    {
     "data": {
      "text/plain": [
       "['guava', 'banana', 'cherry', 'guava', 'apple']"
      ]
     },
     "execution_count": 9,
     "metadata": {},
     "output_type": "execute_result"
    }
   ],
   "source": [
    "#Write a Program to interchange first and last elements in a list\n",
    "L1=[\"apple\",\"banana\",\"cherry\",\"guava\",\"grapes\"]\n",
    "L1[0]=\"guava\"\n",
    "L1[4]=\"apple\"\n",
    "L1"
   ]
  },
  {
   "cell_type": "code",
   "execution_count": 5,
   "id": "3b707b67-b971-4270-b08a-043a47df90f1",
   "metadata": {},
   "outputs": [
    {
     "data": {
      "text/plain": [
       "['apple', 'banana', 'guava', 'cherry', 'grapes']"
      ]
     },
     "execution_count": 5,
     "metadata": {},
     "output_type": "execute_result"
    }
   ],
   "source": [
    "#Program to swap two elements in a list\n",
    "L1=[\"apple\",\"banana\",\"cherry\",\"guava\",\"grapes\"]\n",
    "L1[2]=\"guava\"\n",
    "L1[3]=\"cherry\"\n",
    "L1"
   ]
  },
  {
   "cell_type": "code",
   "execution_count": 15,
   "id": "b8cc88de-6da9-4392-893a-6a1b51019707",
   "metadata": {},
   "outputs": [
    {
     "data": {
      "text/plain": [
       "['w', 'o', 'r', 'l', 'd', ' ', 'h', 'e', 'l', 'l', 'o']"
      ]
     },
     "execution_count": 15,
     "metadata": {},
     "output_type": "execute_result"
    }
   ],
   "source": [
    "#Swap elements in String list\n",
    "a=\"hello world\"\n",
    "L1=list(a)\n",
    "L1[0:5],L1[5],L1[6:11]=L1[6:11],L1[5],L1[0:5]\n",
    "L1"
   ]
  },
  {
   "cell_type": "code",
   "execution_count": 19,
   "id": "e6c5500c-23d7-4f06-b707-027aa38c79d7",
   "metadata": {},
   "outputs": [
    {
     "name": "stdout",
     "output_type": "stream",
     "text": [
      "7\n"
     ]
    }
   ],
   "source": [
    "#Ways to find length of list\n",
    "L1=[1,2,3,4,5,6,7]\n",
    "print(len(L1))"
   ]
  },
  {
   "cell_type": "code",
   "execution_count": 49,
   "id": "26be034c-1e89-4f8b-975c-d00c90d51ed5",
   "metadata": {},
   "outputs": [
    {
     "name": "stdout",
     "output_type": "stream",
     "text": [
      "2\n"
     ]
    }
   ],
   "source": [
    "#Maximum of two numbers in Python\n",
    "L1=[1,2]\n",
    "print(max(L1))"
   ]
  },
  {
   "cell_type": "code",
   "execution_count": 51,
   "id": "75a89a24-c9bd-4ae5-9b5d-4acee60447b6",
   "metadata": {},
   "outputs": [
    {
     "name": "stdout",
     "output_type": "stream",
     "text": [
      "1\n"
     ]
    }
   ],
   "source": [
    "#Minimum of two numbers in Python\n",
    "L1=[1,2]\n",
    "print(min(L1))"
   ]
  },
  {
   "cell_type": "code",
   "execution_count": 53,
   "id": "52df565f-7080-4d58-8a27-17dad1bb37d0",
   "metadata": {},
   "outputs": [
    {
     "name": "stdout",
     "output_type": "stream",
     "text": [
      "True\n"
     ]
    }
   ],
   "source": [
    "#Ways to check if element exists in list\n",
    "L1=[1,2,3,4]\n",
    "print(1 in L1)"
   ]
  },
  {
   "cell_type": "code",
   "execution_count": 63,
   "id": "77a66ac6-1887-4d91-9508-5b2079cc726b",
   "metadata": {},
   "outputs": [
    {
     "name": "stdout",
     "output_type": "stream",
     "text": [
      "[]\n",
      "[]\n"
     ]
    }
   ],
   "source": [
    "#Different ways to clear a list in Python\n",
    "#method 1\n",
    "L1=[\"a\",\"b\",\"c\",\"d\"]\n",
    "L1.clear()\n",
    "print(L1)\n",
    "#method 2\n",
    "L2=[1,2,3,4,5]\n",
    "del L2[:]\n",
    "print(L2)"
   ]
  },
  {
   "cell_type": "code",
   "execution_count": 81,
   "id": "aafeeee8-bb01-44e6-a0b9-db8cd5fe7113",
   "metadata": {},
   "outputs": [
    {
     "data": {
      "text/plain": [
       "[7, 6, 5, 4, 3, 2, 1]"
      ]
     },
     "execution_count": 81,
     "metadata": {},
     "output_type": "execute_result"
    }
   ],
   "source": [
    "#Reversing a List\n",
    "L1=[1,2,3,4,5,6,7]\n",
    "L1.sort(reverse=True)\n",
    "L1"
   ]
  },
  {
   "cell_type": "code",
   "execution_count": 1,
   "id": "148bab6c-dcf7-4249-9484-1c23b53f47bc",
   "metadata": {},
   "outputs": [
    {
     "data": {
      "text/plain": [
       "[1, 2, 3, 4, 5]"
      ]
     },
     "execution_count": 1,
     "metadata": {},
     "output_type": "execute_result"
    }
   ],
   "source": [
    "#Cloning or Copying a list\n",
    "L1=[1,2,3,4,5]\n",
    "L2=L1.copy()\n",
    "L2"
   ]
  },
  {
   "cell_type": "code",
   "execution_count": 13,
   "id": "76689ef7-dc6f-4eec-bd38-d8aa24b4b964",
   "metadata": {},
   "outputs": [
    {
     "name": "stdout",
     "output_type": "stream",
     "text": [
      "4\n"
     ]
    }
   ],
   "source": [
    "#Count occurrences of an element in a list\n",
    "L1=[1,2,3,4,5,6,1,2,3,4,5,6,1,2,3,3]\n",
    "print(L1.count(3))"
   ]
  },
  {
   "cell_type": "code",
   "execution_count": 3,
   "id": "9cf47439-1622-47d8-abcd-977fa548e9b4",
   "metadata": {},
   "outputs": [
    {
     "name": "stdout",
     "output_type": "stream",
     "text": [
      "120\n",
      "15.0\n"
     ]
    }
   ],
   "source": [
    "#Program to find sum and average of List in Python\n",
    "L1=[1,2,3,4,11,22,33,44]\n",
    "print(sum(L1))\n",
    "print(sum(L1)/len(L1))"
   ]
  },
  {
   "cell_type": "code",
   "execution_count": 5,
   "id": "dad4c930-ccfc-4172-a6db-639fc8d925c7",
   "metadata": {},
   "outputs": [
    {
     "name": "stdout",
     "output_type": "stream",
     "text": [
      "30\n"
     ]
    }
   ],
   "source": [
    "#Sum of number digits in List\n",
    "L1=[1,2,3,7,8,9]\n",
    "print(sum(L1))"
   ]
  },
  {
   "cell_type": "code",
   "execution_count": 7,
   "id": "43f1fc15-bd5f-47cf-bb7b-93f2eafd2e4f",
   "metadata": {},
   "outputs": [
    {
     "name": "stdout",
     "output_type": "stream",
     "text": [
      "135135\n"
     ]
    }
   ],
   "source": [
    "#Multiply all numbers in the list\n",
    "L1=[1,3,5,7,9,11,13]\n",
    "product=(1*3*5*7*9*11*13)\n",
    "print(product)"
   ]
  },
  {
   "cell_type": "code",
   "execution_count": 9,
   "id": "9491f60c-84af-4897-abd0-ed7deeb453bd",
   "metadata": {},
   "outputs": [
    {
     "name": "stdout",
     "output_type": "stream",
     "text": [
      "11\n"
     ]
    }
   ],
   "source": [
    "#Program to find smallest number in a list\n",
    "L1=[11,12,13,14,15,16]\n",
    "print(min(L1))"
   ]
  },
  {
   "cell_type": "code",
   "execution_count": 11,
   "id": "007650db-c651-4c67-a42d-68878fae292d",
   "metadata": {},
   "outputs": [
    {
     "name": "stdout",
     "output_type": "stream",
     "text": [
      "16\n"
     ]
    }
   ],
   "source": [
    "#Program to find largest number in a list\n",
    "L1=[11,12,13,14,15,16]\n",
    "print(max(L1))"
   ]
  },
  {
   "cell_type": "code",
   "execution_count": 13,
   "id": "3bf1745d-9ea2-487a-8dca-29f159fdc8cc",
   "metadata": {},
   "outputs": [
    {
     "name": "stdout",
     "output_type": "stream",
     "text": [
      "12\n"
     ]
    }
   ],
   "source": [
    "L1=[11,12,13]\n",
    "m=max(L1)\n",
    "L1.remove(m)\n",
    "print(max(L1))"
   ]
  },
  {
   "cell_type": "code",
   "execution_count": 19,
   "id": "98905e7b-8ec7-4cdd-9c6b-c876d5c42bc6",
   "metadata": {},
   "outputs": [
    {
     "name": "stdout",
     "output_type": "stream",
     "text": [
      "2\n",
      "4\n",
      "6\n",
      "8\n"
     ]
    }
   ],
   "source": [
    "#Program to print even numbers in a list\n",
    "n=[1,2,3,4,5,6,7,8] \n",
    "for i in n:\n",
    "  if i%2==0:\n",
    "    print(i)"
   ]
  },
  {
   "cell_type": "code",
   "execution_count": 23,
   "id": "7b77db5e-d4dd-4714-9aae-6a9c7a9370e3",
   "metadata": {},
   "outputs": [
    {
     "name": "stdout",
     "output_type": "stream",
     "text": [
      "1\n",
      "3\n",
      "5\n",
      "7\n"
     ]
    }
   ],
   "source": [
    "#Program to print odd numbers in a List\n",
    "n=[1,2,3,4,5,6,7,8] \n",
    "for i in n:\n",
    "  if i%2!=0:\n",
    "    print(i)"
   ]
  },
  {
   "cell_type": "code",
   "execution_count": 39,
   "id": "b831b93f-ff1c-41c9-add3-c1ad49089b88",
   "metadata": {},
   "outputs": [
    {
     "name": "stdout",
     "output_type": "stream",
     "text": [
      "[2, 4, 6, 8]\n"
     ]
    }
   ],
   "source": [
    "#Program to print all even numbers in a range\n",
    "n=[1, 2, 3, 4, 5, 6, 7, 8]\n",
    "even=[num for num in n if num % 2 == 0]\n",
    "print(even)"
   ]
  },
  {
   "cell_type": "code",
   "execution_count": 43,
   "id": "6ffeb877-139e-4eb5-8db2-fabbeda0f54a",
   "metadata": {},
   "outputs": [
    {
     "name": "stdout",
     "output_type": "stream",
     "text": [
      "[1, 3, 5, 7]\n"
     ]
    }
   ],
   "source": [
    "#Program to print all odd numbers in a range\n",
    "n=[1, 2, 3, 4, 5, 6, 7, 8]\n",
    "odd=[num for num in n if num % 2 != 0]\n",
    "print(odd)"
   ]
  },
  {
   "cell_type": "code",
   "execution_count": 45,
   "id": "2e4cffa0-ca33-4edc-872b-f3eb86dd409d",
   "metadata": {},
   "outputs": [
    {
     "name": "stdout",
     "output_type": "stream",
     "text": [
      "4\n",
      "4\n"
     ]
    }
   ],
   "source": [
    "#Program to count Even and Odd numbers in a List\n",
    "n=[1, 2, 3, 4, 5, 6, 7, 8]\n",
    "even=[num for num in n if num % 2 == 0]\n",
    "odd=[num for num in n if num % 2 != 0]\n",
    "print(len(even))\n",
    "print(len(odd))"
   ]
  },
  {
   "cell_type": "code",
   "execution_count": 47,
   "id": "6220d06c-a62c-4b97-a2e7-66a06bd44c0c",
   "metadata": {},
   "outputs": [
    {
     "name": "stdout",
     "output_type": "stream",
     "text": [
      "1\n",
      "2\n",
      "3\n"
     ]
    }
   ],
   "source": [
    "#Program to print positive numbers in a list\n",
    "n=[-3,-2,-1,1,2,3] \n",
    "for i in n:\n",
    "  if i>0:\n",
    "    print(i)"
   ]
  },
  {
   "cell_type": "code",
   "execution_count": 49,
   "id": "999959ad-bccd-47e7-951a-4bdc030b141d",
   "metadata": {},
   "outputs": [
    {
     "name": "stdout",
     "output_type": "stream",
     "text": [
      "-3\n",
      "-2\n",
      "-1\n"
     ]
    }
   ],
   "source": [
    "#Program to print negative numbers in a list\n",
    "n=[-3,-2,-1,1,2,3] \n",
    "for i in n:\n",
    "  if i<0:\n",
    "    print(i)"
   ]
  },
  {
   "cell_type": "code",
   "execution_count": 51,
   "id": "7cd36d13-9b7f-44b3-9b38-b3daeb2678e1",
   "metadata": {},
   "outputs": [
    {
     "name": "stdout",
     "output_type": "stream",
     "text": [
      "[1, 2, 3]\n"
     ]
    }
   ],
   "source": [
    "#Program to print all positive numbers in a range\n",
    "n=[-3,-2,-1,1,2,3]\n",
    "positive=[num for num in n if num>0]\n",
    "print(positive)"
   ]
  },
  {
   "cell_type": "code",
   "execution_count": 53,
   "id": "ce60dc3b-cd52-4422-9012-55c8f1ba2e1d",
   "metadata": {},
   "outputs": [
    {
     "name": "stdout",
     "output_type": "stream",
     "text": [
      "[-3, -2, -1]\n"
     ]
    }
   ],
   "source": [
    "#Program to print all negative numbers in a range\n",
    "n=[-3,-2,-1,1,2,3]\n",
    "negative=[num for num in n if num<0]\n",
    "print(negative)"
   ]
  },
  {
   "cell_type": "code",
   "execution_count": 55,
   "id": "bce06519-ffcd-4cce-b9dc-46a13906d892",
   "metadata": {},
   "outputs": [
    {
     "name": "stdout",
     "output_type": "stream",
     "text": [
      "4\n",
      "4\n"
     ]
    }
   ],
   "source": [
    "#Program to count positive and negative numbers in a list\n",
    "n=[-4,-3,-2,-1,1,2,3,4]\n",
    "positive=[num for num in n if num>0]\n",
    "negative=[num for num in n if num<0]\n",
    "print(len(positive))\n",
    "print(len(negative))"
   ]
  },
  {
   "cell_type": "code",
   "execution_count": 57,
   "id": "bb9823a9-71ba-40d4-bf3c-3a72e9977fd3",
   "metadata": {},
   "outputs": [
    {
     "data": {
      "text/plain": [
       "[1, 2, 3]"
      ]
     },
     "execution_count": 57,
     "metadata": {},
     "output_type": "execute_result"
    }
   ],
   "source": [
    "#Remove multiple elements from a list in Python\n",
    "L1=[1,2,3,4,5,6,7,8,9]\n",
    "del L1[3:]\n",
    "L1"
   ]
  },
  {
   "cell_type": "code",
   "execution_count": 59,
   "id": "fbdd1250-5dd6-454f-9744-7ea939a83acb",
   "metadata": {},
   "outputs": [
    {
     "name": "stdout",
     "output_type": "stream",
     "text": [
      "[(1, 2), (3, 4), (5, 6)]\n"
     ]
    }
   ],
   "source": [
    "#Remove empty tuples from a list\n",
    "L1=[(1, 2),(),(3, 4),(5, 6)]\n",
    "L1=[tuple for tuple in L1 if tuple]\n",
    "print(L1)"
   ]
  },
  {
   "cell_type": "code",
   "execution_count": 65,
   "id": "01379302-b554-4bbe-9daa-802f9c9fd95e",
   "metadata": {},
   "outputs": [
    {
     "name": "stdout",
     "output_type": "stream",
     "text": [
      "[2, 3, 4, 5]\n"
     ]
    }
   ],
   "source": [
    "#Program to print duplicates from a list of integers\n",
    "L1=[1,2,2,3,3,3,4,4,4,4,5,5,5,5,5]\n",
    "L2=[]\n",
    "L3=[]\n",
    "for i in L1:\n",
    "    if i not in L2:\n",
    "        L2.append(i)\n",
    "    elif i not in L3:\n",
    "        L3.append(i)\n",
    "print(L3)"
   ]
  }
 ],
 "metadata": {
  "kernelspec": {
   "display_name": "Python 3 (ipykernel)",
   "language": "python",
   "name": "python3"
  },
  "language_info": {
   "codemirror_mode": {
    "name": "ipython",
    "version": 3
   },
   "file_extension": ".py",
   "mimetype": "text/x-python",
   "name": "python",
   "nbconvert_exporter": "python",
   "pygments_lexer": "ipython3",
   "version": "3.12.4"
  }
 },
 "nbformat": 4,
 "nbformat_minor": 5
}
